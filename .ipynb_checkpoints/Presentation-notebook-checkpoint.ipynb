version https://git-lfs.github.com/spec/v1
oid sha256:dc8d124ac2da37f45e44f4d4bafbf2772d385ec70ba612a85985d4b293f61770
size 8070508
